{
 "cells": [
  {
   "cell_type": "code",
   "execution_count": 1,
   "metadata": {},
   "outputs": [],
   "source": [
    "import numpy as np\n",
    "import matplotlib.pyplot as plt\n",
    "import math\n",
    "from brian2 import *\n",
    "from brian2.units.allunits import newton"
   ]
  },
  {
   "cell_type": "code",
   "execution_count": 2,
   "metadata": {},
   "outputs": [],
   "source": [
    "# initial parameters\n",
    "\n",
    "e = 1.6*10**-19 * coulomb# charge of 1 electron in Coulombs\n",
    "K_c = e # Potassium^+1 ion charge \n",
    "Na_c = e # Sodium^+1 ion charge\n",
    "Ca_c = 2*e # Calcium^+2 ion charge\n",
    "Cl_c = -e # Chloride^-1 ion charge\n",
    "\n",
    "K_m = (6.5 * 10**-26) * kgram # mass of potassium ion\n",
    "Ca_m = (6.7 * 10**-26) * kgram # mass of calcium ion\n",
    "Na_m = (3.8 * 10**-26) * kgram # mass of sodium ion\n",
    "Cl_m = (2.1 * 10**-22) * kgram # mass of sodium ion\n",
    "\n",
    "syn_l = 20 * nmeter # length of a synapse\n",
    "rec_l = .5 * nmeter # length of an ion channel\n",
    "M_l = 5 * nmeter # length of cell membrane\n",
    "\n",
    "R_p = -70 * mV # resting potential\n",
    "A_p = -55 * mV # action potential\n",
    "Re_p = 30 * mV # repolarization begins\n",
    "Ref_p = -90 * mV # refractory period minimum \n",
    "\n",
    "p_r = (10**6) # permeation rate\n",
    "t_duration = .5 # firing threshold duration\n",
    "d_duration = 2 # depolarization duration\n",
    "r_duration = 1 # repolarization duration\n",
    "rf_duration = 2 # refractory period duration\n"
   ]
  },
  {
   "cell_type": "code",
   "execution_count": 3,
   "metadata": {},
   "outputs": [],
   "source": [
    "# equations\n",
    "\n",
    "# Lorentz Force Equation F = qE\n",
    "#V = A_p - R_p # acquire voltage difference across membrane\n",
    "#W = e * E_f1 * M_l Work = Force time distance\n",
    "#E_f = V / syn_l electric field  = change in voltage over change in distance\n",
    "#F = e * E_f force = qE or particle times electric field\n",
    "#F = Ca_m * v_Ca**2 / M_l Force = mass*velocity^2/radius \n",
    "#F_total = F * p_r * t_duration # total force of ions = force * permeation rate * duration\n",
    "#v = np.sqrt(2 * Ca_c * E_f1 * M_l / Ca_m) # kinematics equation to determine velocity "
   ]
  },
  {
   "cell_type": "markdown",
   "metadata": {},
   "source": [
    "This project is about the electromagnetic forces within the cell membrane and ion movement. In particular, I will be looking at the force required for ions to travel inside or out of the cell."
   ]
  },
  {
   "cell_type": "code",
   "execution_count": 4,
   "metadata": {},
   "outputs": [
    {
     "name": "stdout",
     "output_type": "stream",
     "text": [
      "Force of electric field:  240. fN\n",
      "Change in membrane potential:  15. mV\n",
      "Electric field:  750000. m kg s^-3 A^-1\n"
     ]
    }
   ],
   "source": [
    "V_t = A_p - R_p # acquire voltage difference\n",
    "E_f1 = V_t / syn_l # Electric field = change in voltage over change in distance\n",
    "F_syn_t = Ca_c * E_f1 # Force = charge of the particles times the electrical field\n",
    "\n",
    "print(\"Force of electric field: \", F_syn_t) \n",
    "print(\"Change in membrane potential: \", V_t)\n",
    "print(\"Electric field: \", E_f1)"
   ]
  },
  {
   "cell_type": "markdown",
   "metadata": {},
   "source": [
    "For an action potential to be induced, the membrane potential must change from a resting potential of -70mV to -55mV. This is due to calcium ions entering the cell, in turn, making it more positive. The electrical gradient will change from calcium ions entering the cell resulting in ion channels to open. As a result, the neuron will spike in a process called depolarization. We can then use electromagnetic force equations to calculate the forces related to the action potential."
   ]
  },
  {
   "cell_type": "code",
   "execution_count": 5,
   "metadata": {},
   "outputs": [
    {
     "name": "stdout",
     "output_type": "stream",
     "text": [
      "Velocity of ion:  189.26408936 m s^-1.0\n",
      "Force of ion:  0.48 pN\n"
     ]
    }
   ],
   "source": [
    "v_Ca = np.sqrt(2 * Ca_c * E_f1 * M_l / Ca_m) # \n",
    "F_Ca = Ca_m * v_Ca**2 / M_l\n",
    "\n",
    "print(\"Velocity of ion: \", v_Ca)\n",
    "print(\"Force of ion: \", F_Ca)"
   ]
  },
  {
   "cell_type": "markdown",
   "metadata": {},
   "source": [
    "4.8 * 10^-13 is the newtons of force that a calcium ion experiences to enter a cell. This is exactly double the force of the electrical field across the cell membrane because calcium is a +2 ion. The partical is moving in a centripetal motion towards its electrical gradient and if you look at the equations, everything cancels out except 2 * Ca_c (charge of calcium particles) * E_f1 (electric field). Now, we can calculate the total amount of force for all calcium ions rushing into the cell during depolarization."
   ]
  },
  {
   "cell_type": "code",
   "execution_count": 6,
   "metadata": {},
   "outputs": [
    {
     "name": "stdout",
     "output_type": "stream",
     "text": [
      "Total Force:  240. nN\n"
     ]
    }
   ],
   "source": [
    "F_total_Ca = F_Ca * p_r * t_duration\n",
    "\n",
    "print(\"Total Force: \", F_total_Ca)"
   ]
  },
  {
   "cell_type": "markdown",
   "metadata": {},
   "source": [
    "About a million ions enter or leave the cell during an action potential in which we can use for our permeation rate. "
   ]
  },
  {
   "cell_type": "code",
   "execution_count": 7,
   "metadata": {},
   "outputs": [
    {
     "data": {
      "text/plain": [
       "Text(0.5, 1.0, 'Change in Force on Calcium Ions')"
      ]
     },
     "execution_count": 7,
     "metadata": {},
     "output_type": "execute_result"
    },
    {
     "data": {
      "image/png": "[encoded data removed]",
      "text/plain": [
       "<Figure size 432x288 with 1 Axes>"
      ]
     },
     "metadata": {
      "needs_background": "light"
     },
     "output_type": "display_data"
    }
   ],
   "source": [
    "y = np.linspace(R_p, A_p, 1000)\n",
    "function = (Ca_c * y / syn_l)\n",
    "xlim(R_p, A_p)\n",
    "\n",
    "plt.plot(y, function)\n",
    "plt.xlabel('Membrane Potential (mV)')\n",
    "plt.ylabel('Force (N)')\n",
    "plt.title('Change in Force on Calcium Ions')"
   ]
  },
  {
   "cell_type": "markdown",
   "metadata": {},
   "source": [
    "In the figure above we can see how the force acting on calcium ions increases as we move towards a more positive membrane potential. As you will later see, this is consistent with all ions as the electrical field changes voltage."
   ]
  },
  {
   "cell_type": "markdown",
   "metadata": {},
   "source": [
    "During deploarization sodium ion channels open allowing the ions to rush into the cell. Sodium ions will experience a different force because sodium channels typically open when the firing threshold has been reached. The new membrane potential will thus alter the electrical field."
   ]
  },
  {
   "cell_type": "code",
   "execution_count": 8,
   "metadata": {},
   "outputs": [
    {
     "name": "stdout",
     "output_type": "stream",
     "text": [
      "Force of electric field:  0.68 pN\n",
      "Change in membrane potential:  85. mV\n",
      "Electric field:  4250000. m kg s^-3 A^-1\n"
     ]
    }
   ],
   "source": [
    "V_a = Re_p - A_p # threshold to action potential\n",
    "E_f2 = V_a / syn_l # Electric field = change in voltage over change in distance\n",
    "F_syn_a = Na_c * E_f2 # Force = charge of the particles times the electrical field\n",
    "\n",
    "print(\"Force of electric field: \", F_syn_a) \n",
    "print(\"Change in membrane potential: \", V_a)\n",
    "print(\"Electric field: \", E_f2)"
   ]
  },
  {
   "cell_type": "code",
   "execution_count": 9,
   "metadata": {},
   "outputs": [
    {
     "name": "stdout",
     "output_type": "stream",
     "text": [
      "Velocity of ion:  177.70466333 m s^-1.0\n",
      "Force of ion:  240. fN\n"
     ]
    }
   ],
   "source": [
    "v_Na = np.sqrt(2 * Na_c * E_f1 * M_l / Na_m) \n",
    "F_Na = Na_m * v_Na**2 / M_l\n",
    "\n",
    "print(\"Velocity of ion: \", v_Na)\n",
    "print(\"Force of ion: \", F_Na)"
   ]
  },
  {
   "cell_type": "code",
   "execution_count": 10,
   "metadata": {},
   "outputs": [
    {
     "name": "stdout",
     "output_type": "stream",
     "text": [
      "Total Force:  0.48 uN\n"
     ]
    }
   ],
   "source": [
    "F_total_Na = F_Na * p_r * d_duration\n",
    "\n",
    "print(\"Total Force: \", F_total_Na)"
   ]
  },
  {
   "cell_type": "code",
   "execution_count": 11,
   "metadata": {},
   "outputs": [
    {
     "data": {
      "text/plain": [
       "Text(0.5, 1.0, 'Change in Force on Sodium Ions')"
      ]
     },
     "execution_count": 11,
     "metadata": {},
     "output_type": "execute_result"
    },
    {
     "data": {
      "image/png": "[encoded data removed]",
      "text/plain": [
       "<Figure size 432x288 with 1 Axes>"
      ]
     },
     "metadata": {
      "needs_background": "light"
     },
     "output_type": "display_data"
    }
   ],
   "source": [
    "y = np.linspace(A_p, Re_p, 1000)\n",
    "function = (Na_c * y / syn_l)\n",
    "xlim(A_p, Re_p)\n",
    "\n",
    "plt.plot(y, function)\n",
    "plt.xlabel('Membrane Potential (mV)')\n",
    "plt.ylabel('Force (N)')\n",
    "plt.title('Change in Force on Sodium Ions')"
   ]
  },
  {
   "cell_type": "markdown",
   "metadata": {},
   "source": [
    "After repeating the same steps for sodium ions under a new force, we can observe it is 6.8 * 10^-13 newtons. This is more than double the force created by the electical field before reaching the firing threshold. The force of the sodium ion to enter the cell is 2.4*10^-13 which is half of the calcium ion. This is expected because a sodium ion has half of the charge of a calcium ion. We can also observe that since we have a greater change in membrane potential the force acting on the ions should get stronger. "
   ]
  },
  {
   "cell_type": "markdown",
   "metadata": {},
   "source": [
    "In the next phase of an action potential, you have the repolarization which is when sodium channels close, but potassium channels open. "
   ]
  },
  {
   "cell_type": "code",
   "execution_count": 12,
   "metadata": {},
   "outputs": [
    {
     "name": "stdout",
     "output_type": "stream",
     "text": [
      "Force of electric field:  0.8 pN\n",
      "Change in membrane potential:  100. mV\n",
      "Electric field:  5000000. m kg s^-3 A^-1\n"
     ]
    }
   ],
   "source": [
    "V_re = Re_p - R_p # threshold to action potential\n",
    "E_f3 = V_re / syn_l # Electric field = change in voltage over change in distance\n",
    "F_syn_r = K_c * E_f3 # Force = charge of the particles times the electrical field\n",
    "\n",
    "print(\"Force of electric field: \", F_syn_r) \n",
    "print(\"Change in membrane potential: \", V_re)\n",
    "print(\"Electric field: \", E_f3)"
   ]
  },
  {
   "cell_type": "code",
   "execution_count": 13,
   "metadata": {},
   "outputs": [
    {
     "name": "stdout",
     "output_type": "stream",
     "text": [
      "Velocity of ion:  350.82320772 m s^-1.0\n",
      "Force of ion:  1.6 pN\n"
     ]
    }
   ],
   "source": [
    "v_K = np.sqrt(2 * K_c * E_f3 * M_l / K_m) # \n",
    "F_k = K_m * v_K**2 / M_l\n",
    "\n",
    "print(\"Velocity of ion: \", v_K)\n",
    "print(\"Force of ion: \", F_k)"
   ]
  },
  {
   "cell_type": "code",
   "execution_count": 14,
   "metadata": {},
   "outputs": [
    {
     "name": "stdout",
     "output_type": "stream",
     "text": [
      "Total Force:  1.6 uN\n"
     ]
    }
   ],
   "source": [
    "F_total_K = F_k * p_r * r_duration\n",
    "\n",
    "print(\"Total Force: \", F_total_K)"
   ]
  },
  {
   "cell_type": "code",
   "execution_count": 15,
   "metadata": {},
   "outputs": [
    {
     "data": {
      "text/plain": [
       "Text(0.5, 1.0, 'Change in Force on Potassium Ions')"
      ]
     },
     "execution_count": 15,
     "metadata": {},
     "output_type": "execute_result"
    },
    {
     "data": {
      "image/png": "[encoded data removed]",
      "text/plain": [
       "<Figure size 432x288 with 1 Axes>"
      ]
     },
     "metadata": {
      "needs_background": "light"
     },
     "output_type": "display_data"
    }
   ],
   "source": [
    "y = np.linspace(Re_p, R_p, 1000)\n",
    "function = (K_c * y / syn_l)\n",
    "xlim(R_p, Re_p)\n",
    "\n",
    "plt.plot(y, function)\n",
    "plt.xlabel('Membrane Potential (mV)')\n",
    "plt.ylabel('Force (N)')\n",
    "plt.title('Change in Force on Potassium Ions')"
   ]
  },
  {
   "cell_type": "markdown",
   "metadata": {},
   "source": [
    "After looking at all potassium ion's forces, we can see a total force of 1.6 * 10^-6 newtons. The most important observation is that we have the strongest force acting upon the ions 8.0*10^-13 due to the greatest change in voltage, 100mV. Now, potassium ion channels will be closing and chloride ion channels will be opening. This phase is called hyperpolarization because the cell is becoming more negative than its resting potential."
   ]
  },
  {
   "cell_type": "code",
   "execution_count": 16,
   "metadata": {},
   "outputs": [
    {
     "name": "stdout",
     "output_type": "stream",
     "text": [
      "Force of electric field:  160. fN\n",
      "Change in membrane potential:  -20. mV\n",
      "Electric field:  -1000000. m kg s^-3 A^-1\n"
     ]
    }
   ],
   "source": [
    "V_ref = Ref_p - R_p # threshold to action potential\n",
    "E_f4 = V_ref / syn_l # Electric field = change in voltage over change in distance\n",
    "F_syn_ref = Cl_c * E_f4 # Force = charge of the particles times the electrical field\n",
    "\n",
    "print(\"Force of electric field: \", F_syn_ref) \n",
    "print(\"Change in membrane potential: \", V_ref)\n",
    "print(\"Electric field: \", E_f4)"
   ]
  },
  {
   "cell_type": "code",
   "execution_count": 17,
   "metadata": {},
   "outputs": [
    {
     "name": "stdout",
     "output_type": "stream",
     "text": [
      "Velocity of ion:  2.76026224 m s^-1.0\n",
      "Force of ion:  0.32 pN\n"
     ]
    }
   ],
   "source": [
    "v_Cl = np.sqrt(2 * Cl_c * E_f4 * M_l / Cl_m) # \n",
    "F_Cl = Cl_m * v_Cl**2 / M_l\n",
    "\n",
    "print(\"Velocity of ion: \", v_Cl)\n",
    "print(\"Force of ion: \", F_Cl)"
   ]
  },
  {
   "cell_type": "code",
   "execution_count": 18,
   "metadata": {},
   "outputs": [
    {
     "name": "stdout",
     "output_type": "stream",
     "text": [
      "Total Force:  0.64 uN\n"
     ]
    }
   ],
   "source": [
    "F_total_Cl = F_Cl * p_r * rf_duration\n",
    "\n",
    "print(\"Total Force: \", F_total_Cl)"
   ]
  },
  {
   "cell_type": "code",
   "execution_count": 19,
   "metadata": {},
   "outputs": [
    {
     "data": {
      "text/plain": [
       "Text(0.5, 1.0, 'Change in Force on Chloride Ions')"
      ]
     },
     "execution_count": 19,
     "metadata": {},
     "output_type": "execute_result"
    },
    {
     "data": {
      "image/png": "[encoded data removed]",
      "text/plain": [
       "<Figure size 432x288 with 1 Axes>"
      ]
     },
     "metadata": {
      "needs_background": "light"
     },
     "output_type": "display_data"
    }
   ],
   "source": [
    "y = np.linspace(R_p, Ref_p, 1000)\n",
    "function = (Cl_c * y / syn_l)\n",
    "xlim(R_p, Ref_p)\n",
    "\n",
    "plt.plot(y, function)\n",
    "plt.xlabel('Membrane Potential (mV)')\n",
    "plt.ylabel('Force (N)')\n",
    "plt.title('Change in Force on Chloride Ions')"
   ]
  },
  {
   "cell_type": "markdown",
   "metadata": {},
   "source": [
    "The figure above shows the change in force as we go from resting potential to hyperpolarization."
   ]
  },
  {
   "cell_type": "code",
   "execution_count": 20,
   "metadata": {},
   "outputs": [
    {
     "name": "stdout",
     "output_type": "stream",
     "text": [
      "Average force of these four ions:  0.62 pN\n"
     ]
    }
   ],
   "source": [
    "F_tot = (F_Cl + F_Na + F_k + F_Cl) / 4\n",
    "print(\"Average force of these four ions: \", F_tot)"
   ]
  }
 ],
 "metadata": {
  "interpreter": {
   "hash": "aee8b7b246df8f9039afb4144a1f6fd8d2ca17a180786b69acc140d282b71a49"
  },
  "kernelspec": {
   "display_name": "Python 3.9.6 64-bit",
   "language": "python",
   "name": "python3"
  },
  "language_info": {
   "codemirror_mode": {
    "name": "ipython",
    "version": 3
   },
   "file_extension": ".py",
   "mimetype": "text/x-python",
   "name": "python",
   "nbconvert_exporter": "python",
   "pygments_lexer": "ipython3",
   "version": "3.9.6"
  },
  "orig_nbformat": 4
 },
 "nbformat": 4,
 "nbformat_minor": 2
}
